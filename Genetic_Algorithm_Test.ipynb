{
 "cells": [
  {
   "cell_type": "code",
   "execution_count": 1,
   "id": "2db52500",
   "metadata": {},
   "outputs": [],
   "source": [
    "# Import libraries\n",
    "import numpy as np\n",
    "import matplotlib.pyplot as plt\n",
    "from genetic_algorithm import genetic_algorithm"
   ]
  },
  {
   "cell_type": "markdown",
   "id": "92aade80",
   "metadata": {},
   "source": [
    "# Optimization\n",
    "Function to be minimized: $$ f(x) = x_1 ^ 2 + 2 x_2 + 3 x_3 ^ 2 + x_4 $$\n",
    "where $x_1, x_2, x_3, x_4 \\in [-10, 10]$."
   ]
  },
  {
   "cell_type": "code",
   "execution_count": 2,
   "id": "2fcfd442",
   "metadata": {},
   "outputs": [],
   "source": [
    "# Function to minimize\n",
    "# f(x_1, x_2, x_3, x_4) = x_1 ** 2 + 2 x_2 + 3 x_3**2 + 4 x_4\n",
    "\n",
    "def fitness_func(array):\n",
    "    return array[0]**2 + 2*array[1] + 3*array[2]**2 + 4*array[3]**2\n",
    "\n",
    "# Parameters for genetic algorithm\n",
    "gene_size = 4                               # Number of item solution / variables for the function\n",
    "population_size = 30                        # Specified number of \"individuals\" each containing a solution to the function\n",
    "crossover_probability = 50\n",
    "mutation_probability_gene = 20\n",
    "mutation_probability_population = 15\n",
    "iterations = 50\n",
    "fitness_function = fitness_func\n",
    "intensity = np.linspace(500, 10000, 1000)\n",
    "rotation = np.linspace(-30, 30, 1000)\n",
    "gene_values = [np.linspace(-10, 10, 1000)]  # Set of possible values for each \"gene\" of the individual\n",
    "optimization_type = 'min'                   # The function is to be minimized\n",
    "record = True\n",
    "\n",
    "ga = genetic_algorithm(gene_size = gene_size,\n",
    "                       population_size = population_size,\n",
    "                       crossover_probability = crossover_probability,\n",
    "                       mutation_probability_gene = mutation_probability_population,\n",
    "                       mutation_probability_population = mutation_probability_population,\n",
    "                       iterations = iterations,\n",
    "                       fitness_function = fitness_function,\n",
    "                       gene_values = gene_values,\n",
    "                       optimization_type = optimization_type,\n",
    "                       record = record)\n",
    "\n",
    "# Run the algorithm\n",
    "ga.run()\n",
    "\n",
    "# Extract values\n",
    "best_values = ga.best_values()"
   ]
  },
  {
   "cell_type": "code",
   "execution_count": 3,
   "id": "c5606be6",
   "metadata": {},
   "outputs": [
    {
     "data": {
      "image/png": "[encoded data removed]",
      "text/plain": [
       "<Figure size 432x288 with 1 Axes>"
      ]
     },
     "metadata": {
      "needs_background": "light"
     },
     "output_type": "display_data"
    },
    {
     "name": "stdout",
     "output_type": "stream",
     "text": [
      "The solution to the problem is: [ 0.03003003 -8.71871872 -0.11011011 -0.65065065].\n"
     ]
    }
   ],
   "source": [
    "# Plot\n",
    "iter_, values = ga.code_efficiency()\n",
    "plt.plot(iter_, values)\n",
    "plt.xlabel(\"Iterations\")\n",
    "plt.ylabel(\"f(x)\")\n",
    "plt.title(\"Fitness values vs. iterations\")\n",
    "plt.show()\n",
    "\n",
    "# Print value of x_1, x_2, x_3, x_4\n",
    "print(\"The solution to the problem is: {}.\".format(best_values))"
   ]
  },
  {
   "cell_type": "markdown",
   "id": "6a578c42",
   "metadata": {},
   "source": [
    "The decreasing plot above depicts the algorithm trying to determine the values of the variable with the given constraint by minimizing the fitness function for each iteration. Since the initialization process is set at random, the plot is expected to follow a certain trend as the iteration progresses (decreases if minimization and increases if maximization) since the algorithm tries to choose the best solution through the process crossover and mutation of values."
   ]
  }
 ],
 "metadata": {
  "kernelspec": {
   "display_name": "Python 3 (ipykernel)",
   "language": "python",
   "name": "python3"
  },
  "language_info": {
   "codemirror_mode": {
    "name": "ipython",
    "version": 3
   },
   "file_extension": ".py",
   "mimetype": "text/x-python",
   "name": "python",
   "nbconvert_exporter": "python",
   "pygments_lexer": "ipython3",
   "version": "3.9.7"
  }
 },
 "nbformat": 4,
 "nbformat_minor": 5
}
